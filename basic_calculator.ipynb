{
 "cells": [
  {
   "cell_type": "code",
   "execution_count": 1,
   "id": "aa29c261",
   "metadata": {},
   "outputs": [
    {
     "name": "stdout",
     "output_type": "stream",
     "text": [
      "Jane Kenda, welcome to Software Engineering 101\n"
     ]
    }
   ],
   "source": [
    "print(\"Jane Kenda, welcome to Software Engineering 101\")"
   ]
  },
  {
   "cell_type": "code",
   "execution_count": 2,
   "id": "bc1b77b7",
   "metadata": {},
   "outputs": [
    {
     "name": "stdout",
     "output_type": "stream",
     "text": [
      "nice and easy\n"
     ]
    }
   ],
   "source": [
    "print('nice and easy')"
   ]
  },
  {
   "cell_type": "code",
   "execution_count": 3,
   "id": "800b76aa",
   "metadata": {},
   "outputs": [
    {
     "data": {
      "text/plain": [
       "9"
      ]
     },
     "execution_count": 3,
     "metadata": {},
     "output_type": "execute_result"
    }
   ],
   "source": [
    "n=int(input('Enter a number: '))\n",
    "\n",
    "m=int(input('Enter a second number: '))\n",
    "\n",
    "z=n+m\n",
    "z"
   ]
  }
 ],
 "metadata": {
  "kernelspec": {
   "display_name": "base",
   "language": "python",
   "name": "python3"
  },
  "language_info": {
   "codemirror_mode": {
    "name": "ipython",
    "version": 3
   },
   "file_extension": ".py",
   "mimetype": "text/x-python",
   "name": "python",
   "nbconvert_exporter": "python",
   "pygments_lexer": "ipython3",
   "version": "3.12.7"
  }
 },
 "nbformat": 4,
 "nbformat_minor": 5
}
